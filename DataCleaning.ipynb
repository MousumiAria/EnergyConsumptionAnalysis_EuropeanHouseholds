{
 "cells": [
  {
   "cell_type": "code",
   "execution_count": 2,
   "metadata": {},
   "outputs": [],
   "source": [
    "import pandas as pd\n",
    "import numpy as np"
   ]
  },
  {
   "cell_type": "markdown",
   "metadata": {},
   "source": [
    "Final energy consumption in households covers the energy consumption of households (individual dwellings, apartments, etc.) for space heating, water heating, cooling, cooking as well as electricity consumption by various electrical appliances. Self-produced electricity is included and counts as consumption of electricity. Self-produced heat is counted only for active system, systems for passive heating are excluded from the scope of energy statistics."
   ]
  },
  {
   "cell_type": "code",
   "execution_count": 3,
   "metadata": {},
   "outputs": [],
   "source": [
    "df=pd.read_csv(\"ten00125__custom_7257799_linear.csv\")"
   ]
  },
  {
   "cell_type": "code",
   "execution_count": 4,
   "metadata": {},
   "outputs": [
    {
     "data": {
      "text/html": [
       "<div>\n",
       "<style scoped>\n",
       "    .dataframe tbody tr th:only-of-type {\n",
       "        vertical-align: middle;\n",
       "    }\n",
       "\n",
       "    .dataframe tbody tr th {\n",
       "        vertical-align: top;\n",
       "    }\n",
       "\n",
       "    .dataframe thead th {\n",
       "        text-align: right;\n",
       "    }\n",
       "</style>\n",
       "<table border=\"1\" class=\"dataframe\">\n",
       "  <thead>\n",
       "    <tr style=\"text-align: right;\">\n",
       "      <th></th>\n",
       "      <th>DATAFLOW</th>\n",
       "      <th>LAST UPDATE</th>\n",
       "      <th>freq</th>\n",
       "      <th>nrg_bal</th>\n",
       "      <th>siec</th>\n",
       "      <th>unit</th>\n",
       "      <th>geo</th>\n",
       "      <th>TIME_PERIOD</th>\n",
       "      <th>OBS_VALUE</th>\n",
       "      <th>OBS_FLAG</th>\n",
       "    </tr>\n",
       "  </thead>\n",
       "  <tbody>\n",
       "    <tr>\n",
       "      <th>0</th>\n",
       "      <td>ESTAT:TEN00125(1.0)</td>\n",
       "      <td>28/04/23 11:00:00</td>\n",
       "      <td>A</td>\n",
       "      <td>FC_OTH_HH_E</td>\n",
       "      <td>E7000</td>\n",
       "      <td>KTOE</td>\n",
       "      <td>AL</td>\n",
       "      <td>2010</td>\n",
       "      <td>222.528</td>\n",
       "      <td>NaN</td>\n",
       "    </tr>\n",
       "    <tr>\n",
       "      <th>1</th>\n",
       "      <td>ESTAT:TEN00125(1.0)</td>\n",
       "      <td>28/04/23 11:00:00</td>\n",
       "      <td>A</td>\n",
       "      <td>FC_OTH_HH_E</td>\n",
       "      <td>E7000</td>\n",
       "      <td>KTOE</td>\n",
       "      <td>AL</td>\n",
       "      <td>2011</td>\n",
       "      <td>233.190</td>\n",
       "      <td>NaN</td>\n",
       "    </tr>\n",
       "    <tr>\n",
       "      <th>2</th>\n",
       "      <td>ESTAT:TEN00125(1.0)</td>\n",
       "      <td>28/04/23 11:00:00</td>\n",
       "      <td>A</td>\n",
       "      <td>FC_OTH_HH_E</td>\n",
       "      <td>E7000</td>\n",
       "      <td>KTOE</td>\n",
       "      <td>AL</td>\n",
       "      <td>2012</td>\n",
       "      <td>262.253</td>\n",
       "      <td>NaN</td>\n",
       "    </tr>\n",
       "    <tr>\n",
       "      <th>3</th>\n",
       "      <td>ESTAT:TEN00125(1.0)</td>\n",
       "      <td>28/04/23 11:00:00</td>\n",
       "      <td>A</td>\n",
       "      <td>FC_OTH_HH_E</td>\n",
       "      <td>E7000</td>\n",
       "      <td>KTOE</td>\n",
       "      <td>AL</td>\n",
       "      <td>2013</td>\n",
       "      <td>331.900</td>\n",
       "      <td>NaN</td>\n",
       "    </tr>\n",
       "    <tr>\n",
       "      <th>4</th>\n",
       "      <td>ESTAT:TEN00125(1.0)</td>\n",
       "      <td>28/04/23 11:00:00</td>\n",
       "      <td>A</td>\n",
       "      <td>FC_OTH_HH_E</td>\n",
       "      <td>E7000</td>\n",
       "      <td>KTOE</td>\n",
       "      <td>AL</td>\n",
       "      <td>2014</td>\n",
       "      <td>300.946</td>\n",
       "      <td>NaN</td>\n",
       "    </tr>\n",
       "    <tr>\n",
       "      <th>5</th>\n",
       "      <td>ESTAT:TEN00125(1.0)</td>\n",
       "      <td>28/04/23 11:00:00</td>\n",
       "      <td>A</td>\n",
       "      <td>FC_OTH_HH_E</td>\n",
       "      <td>E7000</td>\n",
       "      <td>KTOE</td>\n",
       "      <td>AL</td>\n",
       "      <td>2015</td>\n",
       "      <td>274.377</td>\n",
       "      <td>NaN</td>\n",
       "    </tr>\n",
       "    <tr>\n",
       "      <th>6</th>\n",
       "      <td>ESTAT:TEN00125(1.0)</td>\n",
       "      <td>28/04/23 11:00:00</td>\n",
       "      <td>A</td>\n",
       "      <td>FC_OTH_HH_E</td>\n",
       "      <td>E7000</td>\n",
       "      <td>KTOE</td>\n",
       "      <td>AL</td>\n",
       "      <td>2016</td>\n",
       "      <td>257.180</td>\n",
       "      <td>NaN</td>\n",
       "    </tr>\n",
       "    <tr>\n",
       "      <th>7</th>\n",
       "      <td>ESTAT:TEN00125(1.0)</td>\n",
       "      <td>28/04/23 11:00:00</td>\n",
       "      <td>A</td>\n",
       "      <td>FC_OTH_HH_E</td>\n",
       "      <td>E7000</td>\n",
       "      <td>KTOE</td>\n",
       "      <td>AL</td>\n",
       "      <td>2017</td>\n",
       "      <td>252.325</td>\n",
       "      <td>NaN</td>\n",
       "    </tr>\n",
       "    <tr>\n",
       "      <th>8</th>\n",
       "      <td>ESTAT:TEN00125(1.0)</td>\n",
       "      <td>28/04/23 11:00:00</td>\n",
       "      <td>A</td>\n",
       "      <td>FC_OTH_HH_E</td>\n",
       "      <td>E7000</td>\n",
       "      <td>KTOE</td>\n",
       "      <td>AL</td>\n",
       "      <td>2018</td>\n",
       "      <td>270.591</td>\n",
       "      <td>NaN</td>\n",
       "    </tr>\n",
       "    <tr>\n",
       "      <th>9</th>\n",
       "      <td>ESTAT:TEN00125(1.0)</td>\n",
       "      <td>28/04/23 11:00:00</td>\n",
       "      <td>A</td>\n",
       "      <td>FC_OTH_HH_E</td>\n",
       "      <td>E7000</td>\n",
       "      <td>KTOE</td>\n",
       "      <td>AL</td>\n",
       "      <td>2019</td>\n",
       "      <td>268.293</td>\n",
       "      <td>NaN</td>\n",
       "    </tr>\n",
       "  </tbody>\n",
       "</table>\n",
       "</div>"
      ],
      "text/plain": [
       "              DATAFLOW        LAST UPDATE freq      nrg_bal   siec  unit geo  \\\n",
       "0  ESTAT:TEN00125(1.0)  28/04/23 11:00:00    A  FC_OTH_HH_E  E7000  KTOE  AL   \n",
       "1  ESTAT:TEN00125(1.0)  28/04/23 11:00:00    A  FC_OTH_HH_E  E7000  KTOE  AL   \n",
       "2  ESTAT:TEN00125(1.0)  28/04/23 11:00:00    A  FC_OTH_HH_E  E7000  KTOE  AL   \n",
       "3  ESTAT:TEN00125(1.0)  28/04/23 11:00:00    A  FC_OTH_HH_E  E7000  KTOE  AL   \n",
       "4  ESTAT:TEN00125(1.0)  28/04/23 11:00:00    A  FC_OTH_HH_E  E7000  KTOE  AL   \n",
       "5  ESTAT:TEN00125(1.0)  28/04/23 11:00:00    A  FC_OTH_HH_E  E7000  KTOE  AL   \n",
       "6  ESTAT:TEN00125(1.0)  28/04/23 11:00:00    A  FC_OTH_HH_E  E7000  KTOE  AL   \n",
       "7  ESTAT:TEN00125(1.0)  28/04/23 11:00:00    A  FC_OTH_HH_E  E7000  KTOE  AL   \n",
       "8  ESTAT:TEN00125(1.0)  28/04/23 11:00:00    A  FC_OTH_HH_E  E7000  KTOE  AL   \n",
       "9  ESTAT:TEN00125(1.0)  28/04/23 11:00:00    A  FC_OTH_HH_E  E7000  KTOE  AL   \n",
       "\n",
       "   TIME_PERIOD  OBS_VALUE  OBS_FLAG  \n",
       "0         2010    222.528       NaN  \n",
       "1         2011    233.190       NaN  \n",
       "2         2012    262.253       NaN  \n",
       "3         2013    331.900       NaN  \n",
       "4         2014    300.946       NaN  \n",
       "5         2015    274.377       NaN  \n",
       "6         2016    257.180       NaN  \n",
       "7         2017    252.325       NaN  \n",
       "8         2018    270.591       NaN  \n",
       "9         2019    268.293       NaN  "
      ]
     },
     "execution_count": 4,
     "metadata": {},
     "output_type": "execute_result"
    }
   ],
   "source": [
    "df.head(10)"
   ]
  },
  {
   "cell_type": "code",
   "execution_count": 5,
   "metadata": {},
   "outputs": [
    {
     "name": "stdout",
     "output_type": "stream",
     "text": [
      "<class 'pandas.core.frame.DataFrame'>\n",
      "RangeIndex: 2410 entries, 0 to 2409\n",
      "Data columns (total 10 columns):\n",
      " #   Column       Non-Null Count  Dtype  \n",
      "---  ------       --------------  -----  \n",
      " 0   DATAFLOW     2410 non-null   object \n",
      " 1   LAST UPDATE  2410 non-null   object \n",
      " 2   freq         2410 non-null   object \n",
      " 3   nrg_bal      2410 non-null   object \n",
      " 4   siec         2410 non-null   object \n",
      " 5   unit         2410 non-null   object \n",
      " 6   geo          2410 non-null   object \n",
      " 7   TIME_PERIOD  2410 non-null   int64  \n",
      " 8   OBS_VALUE    2410 non-null   float64\n",
      " 9   OBS_FLAG     0 non-null      float64\n",
      "dtypes: float64(2), int64(1), object(7)\n",
      "memory usage: 188.4+ KB\n"
     ]
    }
   ],
   "source": [
    "df.info()"
   ]
  },
  {
   "cell_type": "code",
   "execution_count": 6,
   "metadata": {},
   "outputs": [
    {
     "data": {
      "text/plain": [
       "array(['AL', 'AT', 'BA', 'BE', 'BG', 'CY', 'CZ', 'DE', 'DK', 'EE', 'EL',\n",
       "       'ES', 'EU27_2020', 'FI', 'FR', 'GE', 'HR', 'HU', 'IE', 'IS', 'IT',\n",
       "       'LT', 'LU', 'LV', 'MD', 'ME', 'MK', 'MT', 'NL', 'NO', 'PL', 'PT',\n",
       "       'RO', 'RS', 'SE', 'SI', 'SK', 'TR', 'UA', 'UK', 'XK'], dtype=object)"
      ]
     },
     "execution_count": 6,
     "metadata": {},
     "output_type": "execute_result"
    }
   ],
   "source": [
    "df.geo.unique()"
   ]
  },
  {
   "cell_type": "code",
   "execution_count": 7,
   "metadata": {},
   "outputs": [
    {
     "data": {
      "text/plain": [
       "array(['E7000', 'G3000', 'O4630', 'O4669', 'RA410'], dtype=object)"
      ]
     },
     "execution_count": 7,
     "metadata": {},
     "output_type": "execute_result"
    }
   ],
   "source": [
    "df.siec.unique()"
   ]
  },
  {
   "cell_type": "code",
   "execution_count": 9,
   "metadata": {},
   "outputs": [
    {
     "data": {
      "text/plain": [
       "array([2010, 2011, 2012, 2013, 2014, 2015, 2016, 2017, 2018, 2019, 2020,\n",
       "       2021], dtype=int64)"
      ]
     },
     "execution_count": 9,
     "metadata": {},
     "output_type": "execute_result"
    }
   ],
   "source": [
    "df.TIME_PERIOD.unique()"
   ]
  },
  {
   "cell_type": "code",
   "execution_count": 12,
   "metadata": {},
   "outputs": [
    {
     "data": {
      "text/plain": [
       "array(['A'], dtype=object)"
      ]
     },
     "execution_count": 12,
     "metadata": {},
     "output_type": "execute_result"
    }
   ],
   "source": [
    "df.freq.unique()"
   ]
  },
  {
   "cell_type": "code",
   "execution_count": 13,
   "metadata": {},
   "outputs": [
    {
     "data": {
      "text/plain": [
       "array(['KTOE'], dtype=object)"
      ]
     },
     "execution_count": 13,
     "metadata": {},
     "output_type": "execute_result"
    }
   ],
   "source": [
    "df.unit.unique()"
   ]
  },
  {
   "cell_type": "code",
   "execution_count": 11,
   "metadata": {},
   "outputs": [
    {
     "data": {
      "text/plain": [
       "DATAFLOW          0\n",
       "LAST UPDATE       0\n",
       "freq              0\n",
       "nrg_bal           0\n",
       "siec              0\n",
       "unit              0\n",
       "geo               0\n",
       "TIME_PERIOD       0\n",
       "OBS_VALUE         0\n",
       "OBS_FLAG       2410\n",
       "dtype: int64"
      ]
     },
     "execution_count": 11,
     "metadata": {},
     "output_type": "execute_result"
    }
   ],
   "source": [
    "df.isnull().sum()"
   ]
  }
 ],
 "metadata": {
  "kernelspec": {
   "display_name": "Python 3",
   "language": "python",
   "name": "python3"
  },
  "language_info": {
   "codemirror_mode": {
    "name": "ipython",
    "version": 3
   },
   "file_extension": ".py",
   "mimetype": "text/x-python",
   "name": "python",
   "nbconvert_exporter": "python",
   "pygments_lexer": "ipython3",
   "version": "3.10.4"
  },
  "orig_nbformat": 4
 },
 "nbformat": 4,
 "nbformat_minor": 2
}
